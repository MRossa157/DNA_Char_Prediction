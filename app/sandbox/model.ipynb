{
 "cells": [
  {
   "cell_type": "code",
   "execution_count": 1,
   "metadata": {},
   "outputs": [
    {
     "name": "stderr",
     "output_type": "stream",
     "text": [
      "\n",
      "A module that was compiled using NumPy 1.x cannot be run in\n",
      "NumPy 2.0.0 as it may crash. To support both 1.x and 2.x\n",
      "versions of NumPy, modules must be compiled with NumPy 2.0.\n",
      "Some module may need to rebuild instead e.g. with 'pybind11>=2.12'.\n",
      "\n",
      "If you are a user of the module, the easiest solution will be to\n",
      "downgrade to 'numpy<2' or try to upgrade the affected module.\n",
      "We expect that some modules will need time to support NumPy 2.\n",
      "\n",
      "Traceback (most recent call last):  File \"<frozen runpy>\", line 198, in _run_module_as_main\n",
      "  File \"<frozen runpy>\", line 88, in _run_code\n",
      "  File \"d:\\Рабочий стол\\Progs2\\Not done\\DNA_Char_Predictioner_tt\\.venv\\Lib\\site-packages\\ipykernel_launcher.py\", line 18, in <module>\n",
      "    app.launch_new_instance()\n",
      "  File \"d:\\Рабочий стол\\Progs2\\Not done\\DNA_Char_Predictioner_tt\\.venv\\Lib\\site-packages\\traitlets\\config\\application.py\", line 1075, in launch_instance\n",
      "    app.start()\n",
      "  File \"d:\\Рабочий стол\\Progs2\\Not done\\DNA_Char_Predictioner_tt\\.venv\\Lib\\site-packages\\ipykernel\\kernelapp.py\", line 739, in start\n",
      "    self.io_loop.start()\n",
      "  File \"d:\\Рабочий стол\\Progs2\\Not done\\DNA_Char_Predictioner_tt\\.venv\\Lib\\site-packages\\tornado\\platform\\asyncio.py\", line 205, in start\n",
      "    self.asyncio_loop.run_forever()\n",
      "  File \"C:\\Users\\maxim\\AppData\\Local\\Programs\\Python\\Python312\\Lib\\asyncio\\base_events.py\", line 639, in run_forever\n",
      "    self._run_once()\n",
      "  File \"C:\\Users\\maxim\\AppData\\Local\\Programs\\Python\\Python312\\Lib\\asyncio\\base_events.py\", line 1985, in _run_once\n",
      "    handle._run()\n",
      "  File \"C:\\Users\\maxim\\AppData\\Local\\Programs\\Python\\Python312\\Lib\\asyncio\\events.py\", line 88, in _run\n",
      "    self._context.run(self._callback, *self._args)\n",
      "  File \"d:\\Рабочий стол\\Progs2\\Not done\\DNA_Char_Predictioner_tt\\.venv\\Lib\\site-packages\\ipykernel\\kernelbase.py\", line 545, in dispatch_queue\n",
      "    await self.process_one()\n",
      "  File \"d:\\Рабочий стол\\Progs2\\Not done\\DNA_Char_Predictioner_tt\\.venv\\Lib\\site-packages\\ipykernel\\kernelbase.py\", line 534, in process_one\n",
      "    await dispatch(*args)\n",
      "  File \"d:\\Рабочий стол\\Progs2\\Not done\\DNA_Char_Predictioner_tt\\.venv\\Lib\\site-packages\\ipykernel\\kernelbase.py\", line 437, in dispatch_shell\n",
      "    await result\n",
      "  File \"d:\\Рабочий стол\\Progs2\\Not done\\DNA_Char_Predictioner_tt\\.venv\\Lib\\site-packages\\ipykernel\\ipkernel.py\", line 362, in execute_request\n",
      "    await super().execute_request(stream, ident, parent)\n",
      "  File \"d:\\Рабочий стол\\Progs2\\Not done\\DNA_Char_Predictioner_tt\\.venv\\Lib\\site-packages\\ipykernel\\kernelbase.py\", line 778, in execute_request\n",
      "    reply_content = await reply_content\n",
      "  File \"d:\\Рабочий стол\\Progs2\\Not done\\DNA_Char_Predictioner_tt\\.venv\\Lib\\site-packages\\ipykernel\\ipkernel.py\", line 449, in do_execute\n",
      "    res = shell.run_cell(\n",
      "  File \"d:\\Рабочий стол\\Progs2\\Not done\\DNA_Char_Predictioner_tt\\.venv\\Lib\\site-packages\\ipykernel\\zmqshell.py\", line 549, in run_cell\n",
      "    return super().run_cell(*args, **kwargs)\n",
      "  File \"d:\\Рабочий стол\\Progs2\\Not done\\DNA_Char_Predictioner_tt\\.venv\\Lib\\site-packages\\IPython\\core\\interactiveshell.py\", line 3075, in run_cell\n",
      "    result = self._run_cell(\n",
      "  File \"d:\\Рабочий стол\\Progs2\\Not done\\DNA_Char_Predictioner_tt\\.venv\\Lib\\site-packages\\IPython\\core\\interactiveshell.py\", line 3130, in _run_cell\n",
      "    result = runner(coro)\n",
      "  File \"d:\\Рабочий стол\\Progs2\\Not done\\DNA_Char_Predictioner_tt\\.venv\\Lib\\site-packages\\IPython\\core\\async_helpers.py\", line 128, in _pseudo_sync_runner\n",
      "    coro.send(None)\n",
      "  File \"d:\\Рабочий стол\\Progs2\\Not done\\DNA_Char_Predictioner_tt\\.venv\\Lib\\site-packages\\IPython\\core\\interactiveshell.py\", line 3334, in run_cell_async\n",
      "    has_raised = await self.run_ast_nodes(code_ast.body, cell_name,\n",
      "  File \"d:\\Рабочий стол\\Progs2\\Not done\\DNA_Char_Predictioner_tt\\.venv\\Lib\\site-packages\\IPython\\core\\interactiveshell.py\", line 3517, in run_ast_nodes\n",
      "    if await self.run_code(code, result, async_=asy):\n",
      "  File \"d:\\Рабочий стол\\Progs2\\Not done\\DNA_Char_Predictioner_tt\\.venv\\Lib\\site-packages\\IPython\\core\\interactiveshell.py\", line 3577, in run_code\n",
      "    exec(code_obj, self.user_global_ns, self.user_ns)\n",
      "  File \"C:\\Users\\maxim\\AppData\\Local\\Temp\\ipykernel_18572\\1420184521.py\", line 5, in <module>\n",
      "    from pytorch_lightning import Trainer\n",
      "  File \"d:\\Рабочий стол\\Progs2\\Not done\\DNA_Char_Predictioner_tt\\.venv\\Lib\\site-packages\\pytorch_lightning\\__init__.py\", line 25, in <module>\n",
      "    from lightning_fabric.utilities.seed import seed_everything  # noqa: E402\n",
      "  File \"d:\\Рабочий стол\\Progs2\\Not done\\DNA_Char_Predictioner_tt\\.venv\\Lib\\site-packages\\lightning_fabric\\__init__.py\", line 30, in <module>\n",
      "    from lightning_fabric.fabric import Fabric  # noqa: E402\n",
      "  File \"d:\\Рабочий стол\\Progs2\\Not done\\DNA_Char_Predictioner_tt\\.venv\\Lib\\site-packages\\lightning_fabric\\fabric.py\", line 46, in <module>\n",
      "    from lightning_fabric.loggers import Logger\n",
      "  File \"d:\\Рабочий стол\\Progs2\\Not done\\DNA_Char_Predictioner_tt\\.venv\\Lib\\site-packages\\lightning_fabric\\loggers\\__init__.py\", line 15, in <module>\n",
      "    from lightning_fabric.loggers.tensorboard import TensorBoardLogger  # noqa: F401\n",
      "  File \"d:\\Рабочий стол\\Progs2\\Not done\\DNA_Char_Predictioner_tt\\.venv\\Lib\\site-packages\\lightning_fabric\\loggers\\tensorboard.py\", line 31, in <module>\n",
      "    from lightning_fabric.wrappers import _unwrap_objects\n",
      "  File \"d:\\Рабочий стол\\Progs2\\Not done\\DNA_Char_Predictioner_tt\\.venv\\Lib\\site-packages\\lightning_fabric\\wrappers.py\", line 38, in <module>\n",
      "    from torch._dynamo import OptimizedModule\n",
      "  File \"d:\\Рабочий стол\\Progs2\\Not done\\DNA_Char_Predictioner_tt\\.venv\\Lib\\site-packages\\torch\\_dynamo\\__init__.py\", line 64, in <module>\n",
      "    torch.manual_seed = disable(torch.manual_seed)\n",
      "  File \"d:\\Рабочий стол\\Progs2\\Not done\\DNA_Char_Predictioner_tt\\.venv\\Lib\\site-packages\\torch\\_dynamo\\decorators.py\", line 50, in disable\n",
      "    return DisableContext()(fn)\n",
      "  File \"d:\\Рабочий стол\\Progs2\\Not done\\DNA_Char_Predictioner_tt\\.venv\\Lib\\site-packages\\torch\\_dynamo\\eval_frame.py\", line 410, in __call__\n",
      "    (filename is None or trace_rules.check(fn))\n",
      "  File \"d:\\Рабочий стол\\Progs2\\Not done\\DNA_Char_Predictioner_tt\\.venv\\Lib\\site-packages\\torch\\_dynamo\\trace_rules.py\", line 3378, in check\n",
      "    return check_verbose(obj, is_inlined_call).skipped\n",
      "  File \"d:\\Рабочий стол\\Progs2\\Not done\\DNA_Char_Predictioner_tt\\.venv\\Lib\\site-packages\\torch\\_dynamo\\trace_rules.py\", line 3361, in check_verbose\n",
      "    rule = torch._dynamo.trace_rules.lookup_inner(\n",
      "  File \"d:\\Рабочий стол\\Progs2\\Not done\\DNA_Char_Predictioner_tt\\.venv\\Lib\\site-packages\\torch\\_dynamo\\trace_rules.py\", line 3442, in lookup_inner\n",
      "    rule = get_torch_obj_rule_map().get(obj, None)\n",
      "  File \"d:\\Рабочий стол\\Progs2\\Not done\\DNA_Char_Predictioner_tt\\.venv\\Lib\\site-packages\\torch\\_dynamo\\trace_rules.py\", line 2782, in get_torch_obj_rule_map\n",
      "    obj = load_object(k)\n",
      "  File \"d:\\Рабочий стол\\Progs2\\Not done\\DNA_Char_Predictioner_tt\\.venv\\Lib\\site-packages\\torch\\_dynamo\\trace_rules.py\", line 2811, in load_object\n",
      "    val = _load_obj_from_str(x[0])\n",
      "  File \"d:\\Рабочий стол\\Progs2\\Not done\\DNA_Char_Predictioner_tt\\.venv\\Lib\\site-packages\\torch\\_dynamo\\trace_rules.py\", line 2795, in _load_obj_from_str\n",
      "    return getattr(importlib.import_module(module), obj_name)\n",
      "  File \"C:\\Users\\maxim\\AppData\\Local\\Programs\\Python\\Python312\\Lib\\importlib\\__init__.py\", line 90, in import_module\n",
      "    return _bootstrap._gcd_import(name[level:], package, level)\n",
      "  File \"d:\\Рабочий стол\\Progs2\\Not done\\DNA_Char_Predictioner_tt\\.venv\\Lib\\site-packages\\torch\\nested\\_internal\\nested_tensor.py\", line 417, in <module>\n",
      "    values=torch.randn(3, 3, device=\"meta\"),\n",
      "d:\\Рабочий стол\\Progs2\\Not done\\DNA_Char_Predictioner_tt\\.venv\\Lib\\site-packages\\torch\\nested\\_internal\\nested_tensor.py:417: UserWarning: Failed to initialize NumPy: _ARRAY_API not found (Triggered internally at ..\\torch\\csrc\\utils\\tensor_numpy.cpp:84.)\n",
      "  values=torch.randn(3, 3, device=\"meta\"),\n"
     ]
    }
   ],
   "source": [
    "import warnings\n",
    "\n",
    "import numpy as np\n",
    "import torch\n",
    "from pytorch_lightning import Trainer\n",
    "from sklearn.model_selection import train_test_split\n",
    "from torch.utils.data import DataLoader\n",
    "\n",
    "warnings.filterwarnings(\"ignore\")"
   ]
  },
  {
   "cell_type": "code",
   "execution_count": 2,
   "metadata": {},
   "outputs": [],
   "source": [
    "import sys\n",
    "\n",
    "sys.path.append(\"../src\")\n",
    "\n",
    "import constants\n",
    "import model\n",
    "import utils"
   ]
  },
  {
   "cell_type": "code",
   "execution_count": 3,
   "metadata": {},
   "outputs": [
    {
     "data": {
      "text/plain": [
       "110788"
      ]
     },
     "execution_count": 3,
     "metadata": {},
     "output_type": "execute_result"
    }
   ],
   "source": [
    "sequences = utils.read_dataset_file(constants.DATASET_PATH_SANDBOX)\n",
    "len(sequences)"
   ]
  },
  {
   "cell_type": "code",
   "execution_count": 4,
   "metadata": {},
   "outputs": [],
   "source": [
    "# For test (take 50% of dataset)\n",
    "sequences = sequences[: int(len(sequences) / 2)]"
   ]
  },
  {
   "cell_type": "code",
   "execution_count": 5,
   "metadata": {},
   "outputs": [
    {
     "name": "stderr",
     "output_type": "stream",
     "text": [
      "100%|██████████| 55394/55394 [00:23<00:00, 2391.69it/s]\n"
     ]
    }
   ],
   "source": [
    "X_left, X_right, y = utils.generate_dataset(sequences)"
   ]
  },
  {
   "cell_type": "code",
   "execution_count": 6,
   "metadata": {},
   "outputs": [],
   "source": [
    "X_left_train, X_left_val, X_right_train, X_right_val, y_train, y_val = train_test_split(\n",
    "    X_left, X_right, y, test_size=0.2, random_state=42\n",
    ")"
   ]
  },
  {
   "cell_type": "code",
   "execution_count": 7,
   "metadata": {},
   "outputs": [
    {
     "name": "stderr",
     "output_type": "stream",
     "text": [
      "One hot encoding : 100%|██████████| 57243314/57243314 [02:35<00:00, 369211.71it/s]\n",
      "One hot encoding : 100%|██████████| 57243314/57243314 [02:23<00:00, 399716.00it/s]\n",
      "One hot encoding : 100%|██████████| 57243314/57243314 [00:18<00:00, 3030792.05it/s]\n"
     ]
    }
   ],
   "source": [
    "train_dataset = model.DNASequenceDataset(X_left_train, X_right_train, y_train)\n",
    "val_dataset = model.DNASequenceDataset(X_left_val, X_right_val, y_val)"
   ]
  },
  {
   "cell_type": "code",
   "execution_count": null,
   "metadata": {},
   "outputs": [],
   "source": [
    "train_loader = DataLoader(train_dataset, batch_size=64, shuffle=True)\n",
    "val_loader = DataLoader(val_dataset, batch_size=64, shuffle=False)"
   ]
  },
  {
   "cell_type": "code",
   "execution_count": null,
   "metadata": {},
   "outputs": [],
   "source": [
    "model = model.DNASequenceModel()\n",
    "trainer = Trainer(\n",
    "    max_epochs=10,\n",
    "    devices=\"auto\",\n",
    "    accelerator=\"auto\",\n",
    "    fast_dev_run=True,\n",
    ")\n",
    "trainer.fit(model, train_loader, val_loader)"
   ]
  }
 ],
 "metadata": {
  "kernelspec": {
   "display_name": ".venv",
   "language": "python",
   "name": "python3"
  },
  "language_info": {
   "codemirror_mode": {
    "name": "ipython",
    "version": 3
   },
   "file_extension": ".py",
   "mimetype": "text/x-python",
   "name": "python",
   "nbconvert_exporter": "python",
   "pygments_lexer": "ipython3",
   "version": "3.12.2"
  }
 },
 "nbformat": 4,
 "nbformat_minor": 2
}
